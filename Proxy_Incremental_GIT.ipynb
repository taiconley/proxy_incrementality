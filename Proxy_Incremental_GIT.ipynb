{
  "nbformat": 4,
  "nbformat_minor": 0,
  "metadata": {
    "colab": {
      "name": "Proxy Incremental TC (GIT).ipynb",
      "version": "0.3.2",
      "provenance": [
        {
          "file_id": "0B57uO8QYVv_oVi02R1Z1SURtMzA",
          "timestamp": 1546024327115
        }
      ]
    }
  },
  "cells": [
    {
      "metadata": {
        "id": "SCCG44_hBUdK",
        "colab_type": "code",
        "cellView": "both",
        "colab": {}
      },
      "cell_type": "code",
      "source": [
        "from colabtools import bigquery\n",
        "from colabtools import publish, magicfunc\n",
        "bigquery.USE_LEGACY_SQL = False\n",
        "project_id = 'FILL IN' #@param\n",
        "client_Name = 'FILL IN' #@param\n",
        "impression_Table = \"FILL IN\" #@param\n",
        "activity_Table = \"FILL IN\" #@param\n",
        "campaign_IDs = \"('1', '2')\" #@param\n",
        "activity_IDs = \"('1','2')\" #@param\n",
        "start_Date = \"'YYYY-MM-DD'\" #@param\n",
        "end_Date = \"'YYYY-MM-DD'\" #@param\n",
        "time_Lag = '30' #@param\n",
        "converters_Impression_Start_Date = \"'YYYY-MM-DD'\" #@param\n",
        "user_Test = \"'FILL IN'\" #@param"
      ],
      "execution_count": 0,
      "outputs": []
    },
    {
      "metadata": {
        "id": "bYFl04RLEHBa",
        "colab_type": "text"
      },
      "cell_type": "markdown",
      "source": [
        "# Prep"
      ]
    },
    {
      "metadata": {
        "id": "NoqjRZwqEKbp",
        "colab_type": "code",
        "outputId": "0e05b8b8-0866-4b11-e17a-736fd85b129f",
        "executionInfo": {
          "status": "ok",
          "timestamp": 1546024401966,
          "user_tz": 300,
          "elapsed": 11366,
          "user": {
            "displayName": "Tai Conley",
            "photoUrl": "",
            "userId": "06199340107397896396"
          }
        },
        "colab": {
          "height": 356
        }
      },
      "cell_type": "code",
      "source": [
        "bigquery.Create(project_id=project_id)\n",
        "import seaborn as sns"
      ],
      "execution_count": 2,
      "outputs": [
        {
          "output_type": "stream",
          "text": [
            "\n",
            "********************************************************************\n",
            "** New OAuth2 credentials needed, beginning authorization process **\n",
            "********************************************************************\n",
            "\n",
            "\n",
            "Go to the following link in your browser:\n",
            "\n",
            "    https://accounts.google.com/o/oauth2/v2/auth?redirect_uri=urn%3Aietf%3Awg%3Aoauth%3A2.0%3Aoob&client_id=977385342095.apps.googleusercontent.com&response_type=code&access_type=offline&scope=https%3A%2F%2Fwww.googleapis.com%2Fauth%2Fbigquery+https%3A%2F%2Fwww.googleapis.com%2Fauth%2Fcloud-platform+https%3A%2F%2Fwww.googleapis.com%2Fauth%2Fdrive+https%3A%2F%2Fwww.googleapis.com%2Fauth%2Faccounts.reauth\n",
            "\n"
          ],
          "name": "stdout"
        },
        {
          "output_type": "stream",
          "text": [
            "/export/hda3/borglet/remote_hdd_fs_dirs/0.colab_kernel_pool_default_33.kernel.colaboratory-playground.44394005975.14b334fb3717c109/mount/server/notebook.par/google3/third_party/py/oauth2client_4_0/_helpers.py:255: UserWarning: Cannot access /dev/null: No such file or directory\n"
          ],
          "name": "stderr"
        },
        {
          "output_type": "display_data",
          "data": {
            "text/html": [
              "<div class=id_912333879 style=\"margin-right:10px; display:flex;align-items:center;\"><span style=\"margin-right: 3px;\"></span></div>"
            ],
            "text/plain": [
              "<IPython.core.display.HTML at 0x7f40f24bb0d0>"
            ]
          },
          "metadata": {
            "tags": []
          }
        },
        {
          "output_type": "display_data",
          "data": {
            "application/javascript": [
              "window[\"9e613da8-0ad4-11e9-8b7b-b1b06365ce7b\"] = jQuery(\".id_912333879 span\");\n",
              "//# sourceURL=js_b4ac4df6ab"
            ],
            "text/plain": [
              "<IPython.core.display.Javascript at 0x7f40f24bb190>"
            ]
          },
          "metadata": {
            "tags": []
          }
        },
        {
          "output_type": "display_data",
          "data": {
            "application/javascript": [
              "window[\"9e616d82-0ad4-11e9-8b7b-b1b06365ce7b\"] = window[\"9e613da8-0ad4-11e9-8b7b-b1b06365ce7b\"].text(\"Enter verification code: \");\n",
              "//# sourceURL=js_ad82a1630c"
            ],
            "text/plain": [
              "<IPython.core.display.Javascript at 0x7f40f24bb2d0>"
            ]
          },
          "metadata": {
            "tags": []
          }
        },
        {
          "output_type": "display_data",
          "data": {
            "application/javascript": [
              "window[\"a4f57a80-0ad4-11e9-8b7b-b1b06365ce7b\"] = jQuery(\".id_912333879 input\");\n",
              "//# sourceURL=js_fe0ad12cdf"
            ],
            "text/plain": [
              "<IPython.core.display.Javascript at 0x7f40f24bb150>"
            ]
          },
          "metadata": {
            "tags": []
          }
        },
        {
          "output_type": "display_data",
          "data": {
            "application/javascript": [
              "window[\"a4f5a1ea-0ad4-11e9-8b7b-b1b06365ce7b\"] = window[\"a4f57a80-0ad4-11e9-8b7b-b1b06365ce7b\"].remove();\n",
              "//# sourceURL=js_259b04799a"
            ],
            "text/plain": [
              "<IPython.core.display.Javascript at 0x7f40f24bb1d0>"
            ]
          },
          "metadata": {
            "tags": []
          }
        },
        {
          "output_type": "display_data",
          "data": {
            "application/javascript": [
              "window[\"a4f5d746-0ad4-11e9-8b7b-b1b06365ce7b\"] = jQuery(\".id_912333879 span\");\n",
              "//# sourceURL=js_90c2357477"
            ],
            "text/plain": [
              "<IPython.core.display.Javascript at 0x7f40f24bb450>"
            ]
          },
          "metadata": {
            "tags": []
          }
        },
        {
          "output_type": "display_data",
          "data": {
            "application/javascript": [
              "window[\"a4f6027a-0ad4-11e9-8b7b-b1b06365ce7b\"] = window[\"a4f5d746-0ad4-11e9-8b7b-b1b06365ce7b\"].text(\"Enter verification code: 4/wQARV7UkVnwS18ABfj-jcTIUyMgB1IQmqt9WXd6t4AM0eaDmFtOliYE\");\n",
              "//# sourceURL=js_539f8c8644"
            ],
            "text/plain": [
              "<IPython.core.display.Javascript at 0x7f40f24bb3d0>"
            ]
          },
          "metadata": {
            "tags": []
          }
        },
        {
          "output_type": "stream",
          "text": [
            "Authentication successful.\n",
            "\n",
            "************************************************\n",
            "** Continuing execution of BigQuery operation **\n",
            "************************************************\n",
            "\n"
          ],
          "name": "stdout"
        }
      ]
    },
    {
      "metadata": {
        "id": "Sp09Lqi2DTDb",
        "colab_type": "text"
      },
      "cell_type": "markdown",
      "source": [
        "# Perform Checks"
      ]
    },
    {
      "metadata": {
        "id": "bYQ3P4BMDVSt",
        "colab_type": "code",
        "outputId": "7233aade-c06b-423c-cca1-c028db98dbd1",
        "executionInfo": {
          "status": "ok",
          "timestamp": 1546024430986,
          "user_tz": 300,
          "elapsed": 25423,
          "user": {
            "displayName": "Tai Conley",
            "photoUrl": "",
            "userId": "06199340107397896396"
          }
        },
        "colab": {
          "height": 53
        }
      },
      "cell_type": "code",
      "source": [
        "%%substitute_globals\n",
        "%%bigquery Check\n",
        "\n",
        "SELECT\n",
        "Count (*) as Impressions,\n",
        "SUM (Case when User_ID = '0' THEN 1 ELSE 0 END) AS User_ID0,\n",
        "SUM (Active_View_Eligible_Impressions) AS Eligible_Impressions,\n",
        "SUM (Active_View_Measurable_Impressions) AS Measurable_Impressions,\n",
        "SUM (Active_View_Viewable_Impressions) AS Viewable_Impressions\n",
        "FROM {impression_Table}\n",
        "WHERE Campaign_ID IN {campaign_IDs}\n",
        "AND CAST(DATE(TIMESTAMP_MICROS(CAST(Event_Time as INT64)),\"America/New_York\") AS STRING) BETWEEN {start_Date} AND {end_Date}"
      ],
      "execution_count": 3,
      "outputs": [
        {
          "output_type": "stream",
          "text": [
            "Waiting on bqjob_r2d632619f53a2471_00000167f63c4edf_1 ... (23s) Current status: DONE   "
          ],
          "name": "stderr"
        },
        {
          "output_type": "stream",
          "text": [
            "\n",
            "Saving results into 'Check'\n"
          ],
          "name": "stdout"
        }
      ]
    },
    {
      "metadata": {
        "id": "WunNWNr-DoNt",
        "colab_type": "code",
        "outputId": "223f0265-317d-4875-9bd4-278c7538b873",
        "executionInfo": {
          "status": "ok",
          "timestamp": 1546024431638,
          "user_tz": 300,
          "elapsed": 567,
          "user": {
            "displayName": "Tai Conley",
            "photoUrl": "",
            "userId": "06199340107397896396"
          }
        },
        "colab": {
          "height": 79
        }
      },
      "cell_type": "code",
      "source": [
        "Check['User_ID0_Percent'] = Check['User_ID0']/Check['Impressions']\n",
        "Check['Eligible_Percent'] = Check['Eligible_Impressions']/Check['Impressions']\n",
        "Check['Measurable_Percent'] = Check['Measurable_Impressions']/Check['Eligible_Impressions']\n",
        "Check['Viewable_Percent'] = Check['Viewable_Impressions']/Check['Measurable_Impressions']\n",
        "Check"
      ],
      "execution_count": 4,
      "outputs": [
        {
          "output_type": "execute_result",
          "data": {
            "text/html": [
              "<div style=\"max-width:1500px;overflow:auto;\">\n",
              "<style scoped>\n",
              "    .dataframe tbody tr th:only-of-type {\n",
              "        vertical-align: middle;\n",
              "    }\n",
              "\n",
              "    .dataframe tbody tr th {\n",
              "        vertical-align: top;\n",
              "    }\n",
              "\n",
              "    .dataframe thead th {\n",
              "        text-align: right;\n",
              "    }\n",
              "</style>\n",
              "<table border=\"1\" class=\"dataframe\">\n",
              "  <thead>\n",
              "    <tr style=\"text-align: right;\">\n",
              "      <th></th>\n",
              "      <th>Impressions</th>\n",
              "      <th>User_ID0</th>\n",
              "      <th>Eligible_Impressions</th>\n",
              "      <th>Measurable_Impressions</th>\n",
              "      <th>Viewable_Impressions</th>\n",
              "      <th>User_ID0_Percent</th>\n",
              "      <th>Eligible_Percent</th>\n",
              "      <th>Measurable_Percent</th>\n",
              "      <th>Viewable_Percent</th>\n",
              "    </tr>\n",
              "  </thead>\n",
              "  <tbody>\n",
              "    <tr>\n",
              "      <th>0</th>\n",
              "      <td>232569263</td>\n",
              "      <td>29718890</td>\n",
              "      <td>128493628</td>\n",
              "      <td>102853934</td>\n",
              "      <td>65371582</td>\n",
              "      <td>0.127785</td>\n",
              "      <td>0.552496</td>\n",
              "      <td>0.800459</td>\n",
              "      <td>0.635577</td>\n",
              "    </tr>\n",
              "  </tbody>\n",
              "</table>\n",
              "</div>"
            ],
            "text/plain": [
              "   Impressions  User_ID0  Eligible_Impressions  Measurable_Impressions  \\\n",
              "0    232569263  29718890             128493628               102853934   \n",
              "\n",
              "   Viewable_Impressions  User_ID0_Percent  Eligible_Percent  \\\n",
              "0              65371582          0.127785          0.552496   \n",
              "\n",
              "   Measurable_Percent  Viewable_Percent  \n",
              "0            0.800459          0.635577  "
            ]
          },
          "metadata": {
            "tags": []
          },
          "execution_count": 4
        }
      ]
    },
    {
      "metadata": {
        "id": "9YY9DyDMIDXl",
        "colab_type": "text"
      },
      "cell_type": "markdown",
      "source": [
        "# Analysis"
      ]
    },
    {
      "metadata": {
        "id": "vcS4-RzmIJQY",
        "colab_type": "text"
      },
      "cell_type": "markdown",
      "source": [
        "## All User Data"
      ]
    },
    {
      "metadata": {
        "id": "aWhMMA22POl4",
        "colab_type": "code",
        "outputId": "94a094da-95db-4985-ac2b-003a49bab2f9",
        "executionInfo": {
          "status": "ok",
          "timestamp": 1546024459187,
          "user_tz": 300,
          "elapsed": 27465,
          "user": {
            "displayName": "Tai Conley",
            "photoUrl": "",
            "userId": "06199340107397896396"
          }
        },
        "colab": {
          "height": 53
        }
      },
      "cell_type": "code",
      "source": [
        "%%substitute_globals\n",
        "%%bigquery Frequency\n",
        "max_rows: 100000\n",
        "\n",
        "# Build total frequency curve with measurable and viewable data\n",
        "WITH\n",
        "# Step 1: Get info and user level\n",
        "impressions AS (\n",
        "  SELECT\n",
        "    User_ID,\n",
        "    SUM (Active_View_Measurable_Impressions) AS Measurable_Frequency,\n",
        "    SUM (Active_View_Viewable_Impressions) AS Viewable_Frequency\n",
        "  FROM {impression_Table}\n",
        "  WHERE Campaign_ID IN {campaign_IDs}\n",
        "  AND User_ID != '0'\n",
        "  AND CAST(DATE(TIMESTAMP_MICROS(CAST(Event_Time as INT64)),\"America/New_York\") AS STRING) BETWEEN {start_Date} AND {end_Date}\n",
        "  GROUP BY 1 \n",
        ")\n",
        "# Step 2: Aggregate #1 to build total curve\n",
        "  SELECT\n",
        "    Measurable_Frequency,\n",
        "    Viewable_Frequency,\n",
        "    COUNT (User_ID) AS Unique_Cookies\n",
        "  FROM impressions\n",
        "  WHERE Measurable_Frequency > 0\n",
        "  AND Viewable_Frequency <= Measurable_Frequency\n",
        "  GROUP BY 1,2\n",
        "  ORDER BY 1,2"
      ],
      "execution_count": 5,
      "outputs": [
        {
          "output_type": "stream",
          "text": [
            "Waiting on bqjob_r73f97c9bf8282969_00000167f63cb517_2 ... (22s) Current status: DONE   "
          ],
          "name": "stderr"
        },
        {
          "output_type": "stream",
          "text": [
            "\n",
            "Saving results into 'Frequency'\n"
          ],
          "name": "stdout"
        }
      ]
    },
    {
      "metadata": {
        "id": "qeNLNaWtayQO",
        "colab_type": "text"
      },
      "cell_type": "markdown",
      "source": [
        "## Converter Only Data"
      ]
    },
    {
      "metadata": {
        "id": "1P5q81rxHL6R",
        "colab_type": "code",
        "outputId": "8e3db558-335c-45ec-bdae-9f83d15bbc0a",
        "executionInfo": {
          "status": "ok",
          "timestamp": 1546024495849,
          "user_tz": 300,
          "elapsed": 36609,
          "user": {
            "displayName": "Tai Conley",
            "photoUrl": "",
            "userId": "06199340107397896396"
          }
        },
        "colab": {
          "height": 53
        }
      },
      "cell_type": "code",
      "source": [
        "%%substitute_globals\n",
        "%%bigquery Converters\n",
        "max_rows: 100000\n",
        "\n",
        "# Build same frequency curve but for converters only\n",
        "WITH\n",
        "# Step 1: Get all converters - only count the first (or Last) conversion\n",
        "conversions AS (\n",
        "    SELECT\n",
        "      User_ID,\n",
        "      MAX (Event_Time) AS Activity_Time # Count the Last Conversion\n",
        "      #MIN (Event_Time) AS Activity_Time # Count the First Conversion\n",
        "    FROM {activity_Table}\n",
        "    WHERE User_ID != '0'\n",
        "    #AND User_ID = {user_Test} -- use only for QA/testing\n",
        "    AND Activity_ID IN {activity_IDs}\n",
        "    AND CAST(DATE(TIMESTAMP_MICROS(CAST(Event_Time as INT64)),\"America/New_York\") AS STRING) BETWEEN {start_Date} AND {end_Date}\n",
        "    GROUP BY 1\n",
        "),\n",
        "# Step 2: Selects all impressions at user level\n",
        "impressions AS(\n",
        "  SELECT\n",
        "    User_ID,\n",
        "    Event_Time AS Interaction_Time,\n",
        "    Active_View_Eligible_Impressions AS Eligible_Impressions,\n",
        "    Active_View_Measurable_Impressions AS Measurable_Impressions,\n",
        "    Active_View_Viewable_Impressions AS Viewable_Impressions\n",
        "  FROM {impression_Table}\n",
        "  WHERE User_ID != \"0\"\n",
        "  #AND User_ID = {user_Test} -- use only for QA/testing\n",
        "  AND Campaign_ID IN {campaign_IDs}\n",
        "  AND CAST(DATE(TIMESTAMP_MICROS(CAST(Event_Time as INT64)),\"America/New_York\") AS STRING) BETWEEN {converters_Impression_Start_Date} AND {end_Date}\n",
        "),\n",
        "# Step 3: Joins step 1 and 2 together. Removes any impression occuring after the conversion\n",
        "full_path AS (\n",
        "  SELECT *\n",
        "  FROM impressions\n",
        "  INNER JOIN conversions USING (User_ID)\n",
        "  WHERE (Activity_Time - Interaction_Time) > 0\n",
        "),\n",
        "# Step 4: Remove any impressions outside of the attribution window\n",
        "full_path_lookback AS (\n",
        "  SELECT *,\n",
        "    (Activity_Time - Interaction_Time) / (1e6*60*60*24) AS Time_Lag_Days\n",
        "  FROM full_path\n",
        "  WHERE ((Activity_Time - Interaction_Time) / (1e6*60*60*24)) <= {time_Lag}\n",
        "),\n",
        "# Step 5: Aggregate step 4. Gets the measurable and viewable frequency count at the user level for converters only\n",
        "full_path_aggregated AS (\n",
        "  SELECT\n",
        "    User_ID,\n",
        "    SUM (Measurable_Impressions) AS Measurable_Frequency,\n",
        "    SUM (Viewable_Impressions) AS Viewable_Frequency\n",
        "  FROM full_path_lookback\n",
        "  GROUP BY 1\n",
        ")\n",
        "# Step 6: Gives us final frequency curve for converters only\n",
        "  SELECT\n",
        "    Measurable_Frequency,\n",
        "    Viewable_Frequency,\n",
        "    COUNT (User_ID) AS Unique_Converters\n",
        "  FROM full_path_aggregated\n",
        "  WHERE Measurable_Frequency > 0\n",
        "  AND Viewable_Frequency <= Measurable_Frequency\n",
        "  GROUP BY 1,2\n",
        "  ORDER BY 1,2"
      ],
      "execution_count": 6,
      "outputs": [
        {
          "output_type": "stream",
          "text": [
            "Waiting on bqjob_r53c77ad11926d117_00000167f63d20e2_3 ... (34s) Current status: DONE   "
          ],
          "name": "stderr"
        },
        {
          "output_type": "stream",
          "text": [
            "\n",
            "Saving results into 'Converters'\n"
          ],
          "name": "stdout"
        }
      ]
    },
    {
      "metadata": {
        "id": "VMvNY1OCqHOq",
        "colab_type": "text"
      },
      "cell_type": "markdown",
      "source": [
        "# Prep Output"
      ]
    },
    {
      "metadata": {
        "id": "juo88cLei6xR",
        "colab_type": "code",
        "colab": {}
      },
      "cell_type": "code",
      "source": [
        "# Step 1: Build masks for converters at each measurable frequency bucket\n",
        "MaskCF1 = Converters[Converters['Measurable_Frequency'] == 1]\n",
        "MaskCF2 = Converters[Converters['Measurable_Frequency'] == 2]\n",
        "MaskCF3 = Converters[Converters['Measurable_Frequency'] == 3]\n",
        "MaskCF4 = Converters[Converters['Measurable_Frequency'] == 4]\n",
        "MaskCF5 = Converters[Converters['Measurable_Frequency'] == 5]\n",
        "MaskCF6 = Converters[Converters['Measurable_Frequency'] == 6]\n",
        "\n",
        "# Step 2: Build masks for all users at each measurable frequency bucket\n",
        "MaskTF1 = Frequency[Frequency['Measurable_Frequency'] == 1]\n",
        "MaskTF2 = Frequency[Frequency['Measurable_Frequency'] == 2]\n",
        "MaskTF3 = Frequency[Frequency['Measurable_Frequency'] == 3]\n",
        "MaskTF4 = Frequency[Frequency['Measurable_Frequency'] == 4]\n",
        "MaskTF5 = Frequency[Frequency['Measurable_Frequency'] == 5]\n",
        "MaskTF6 = Frequency[Frequency['Measurable_Frequency'] == 6]\n",
        "\n",
        "# Step 3: Join masks together\n",
        "Join1 = MaskTF1.merge(MaskCF1, left_on = 'Viewable_Frequency', right_on = 'Viewable_Frequency', how = 'left').drop('Measurable_Frequency_y', axis =1).rename(columns = {'Measurable_Frequency_x': 'Measurable_Frequency'})\n",
        "Join2 = MaskTF2.merge(MaskCF2, left_on = 'Viewable_Frequency', right_on = 'Viewable_Frequency', how = 'left').drop('Measurable_Frequency_y', axis =1).rename(columns = {'Measurable_Frequency_x': 'Measurable_Frequency'})\n",
        "Join3 = MaskTF3.merge(MaskCF3, left_on = 'Viewable_Frequency', right_on = 'Viewable_Frequency', how = 'left').drop('Measurable_Frequency_y', axis =1).rename(columns = {'Measurable_Frequency_x': 'Measurable_Frequency'})\n",
        "Join4 = MaskTF4.merge(MaskCF4, left_on = 'Viewable_Frequency', right_on = 'Viewable_Frequency', how = 'left').drop('Measurable_Frequency_y', axis =1).rename(columns = {'Measurable_Frequency_x': 'Measurable_Frequency'})\n",
        "Join5 = MaskTF5.merge(MaskCF5, left_on = 'Viewable_Frequency', right_on = 'Viewable_Frequency', how = 'left').drop('Measurable_Frequency_y', axis =1).rename(columns = {'Measurable_Frequency_x': 'Measurable_Frequency'})\n",
        "Join6 = MaskTF6.merge(MaskCF6, left_on = 'Viewable_Frequency', right_on = 'Viewable_Frequency', how = 'left').drop('Measurable_Frequency_y', axis =1).rename(columns = {'Measurable_Frequency_x': 'Measurable_Frequency'})\n",
        "\n",
        "# Step 4: Add conversion rate to each data frame\n",
        "Join1['ConversionRate'] = Join1['Unique_Converters'] / Join1['Unique_Cookies']\n",
        "Join2['ConversionRate'] = Join2['Unique_Converters'] / Join2['Unique_Cookies']\n",
        "Join3['ConversionRate'] = Join3['Unique_Converters'] / Join3['Unique_Cookies']\n",
        "Join4['ConversionRate'] = Join4['Unique_Converters'] / Join4['Unique_Cookies']\n",
        "Join5['ConversionRate'] = Join5['Unique_Converters'] / Join5['Unique_Cookies']\n",
        "Join6['ConversionRate'] = Join6['Unique_Converters'] / Join6['Unique_Cookies']"
      ],
      "execution_count": 0,
      "outputs": []
    },
    {
      "metadata": {
        "id": "VS1xTt-zKEJ_",
        "colab_type": "code",
        "colab": {}
      },
      "cell_type": "code",
      "source": [
        "# Step 1: Build base case conversion rate\n",
        "MaskCVF = Converters[Converters['Viewable_Frequency'] == 0]\n",
        "MaskTVF = Frequency[Frequency['Viewable_Frequency'] == 0]\n",
        "JoinVF0 = MaskCVF.merge(MaskTVF, left_on = 'Measurable_Frequency', right_on = 'Measurable_Frequency', how = 'left').drop('Viewable_Frequency_y', axis =1).rename(columns = {'Viewable_Frequency_x': 'Viewable_Frequency'})\n",
        "JoinVF0['ConversionRate'] = JoinVF0['Unique_Converters'] / JoinVF0['Unique_Cookies']\n",
        "JoinVF0 = JoinVF0[0:6]"
      ],
      "execution_count": 0,
      "outputs": []
    },
    {
      "metadata": {
        "id": "Qr9NNkVjzYUQ",
        "colab_type": "text"
      },
      "cell_type": "markdown",
      "source": [
        "# Output"
      ]
    },
    {
      "metadata": {
        "id": "PjSK8xZtNPAx",
        "colab_type": "text"
      },
      "cell_type": "markdown",
      "source": [
        "## Measurable Frequency Distribution"
      ]
    },
    {
      "metadata": {
        "id": "GNJO6fj4MLoC",
        "colab_type": "code",
        "outputId": "dc22580a-6d9a-48ed-9b59-884e756b7778",
        "executionInfo": {
          "status": "ok",
          "timestamp": 1546024497296,
          "user_tz": 300,
          "elapsed": 640,
          "user": {
            "displayName": "Tai Conley",
            "photoUrl": "",
            "userId": "06199340107397896396"
          }
        },
        "colab": {
          "height": 419
        }
      },
      "cell_type": "code",
      "source": [
        "sns.set_palette(\"muted\",n_colors=7)\n",
        "MaskMF = Frequency[Frequency['Measurable_Frequency'] <= 10]\n",
        "sns.factorplot(x='Measurable_Frequency', y='Unique_Cookies', data=MaskMF, kind = 'bar')"
      ],
      "execution_count": 9,
      "outputs": [
        {
          "output_type": "stream",
          "text": [
            "/export/hda3/borglet/remote_hdd_fs_dirs/0.colab_kernel_pool_default_33.kernel.colaboratory-playground.44394005975.14b334fb3717c109/mount/server/notebook.par/google3/third_party/py/seaborn/categorical.py:3666: UserWarning: The `factorplot` function has been renamed to `catplot`. The original name will be removed in a future release. Please update your code. Note that the default `kind` in `factorplot` (`'point'`) has changed `'strip'` in `catplot`.\n"
          ],
          "name": "stderr"
        },
        {
          "output_type": "execute_result",
          "data": {
            "text/plain": [
              "<seaborn.axisgrid.FacetGrid at 0x7f40ef2734d0>"
            ]
          },
          "metadata": {
            "tags": []
          },
          "execution_count": 9
        },
        {
          "output_type": "display_data",
          "data": {
            "image/png": "[encoded data removed]",
            "text/plain": [
              "<matplotlib.figure.Figure at 0x7f40ef273d10>"
            ]
          },
          "metadata": {
            "tags": []
          }
        }
      ]
    },
    {
      "metadata": {
        "id": "dIiCiqBvNUG5",
        "colab_type": "text"
      },
      "cell_type": "markdown",
      "source": [
        "## Base Case"
      ]
    },
    {
      "metadata": {
        "id": "LMUgbsSUOSCK",
        "colab_type": "code",
        "outputId": "8a018dc5-1be3-46a7-f312-bfbae78597c4",
        "executionInfo": {
          "status": "ok",
          "timestamp": 1546024497841,
          "user_tz": 300,
          "elapsed": 485,
          "user": {
            "displayName": "Tai Conley",
            "photoUrl": "",
            "userId": "06199340107397896396"
          }
        },
        "colab": {
          "height": 381
        }
      },
      "cell_type": "code",
      "source": [
        "sns.factorplot(x='Measurable_Frequency', y='ConversionRate', data=JoinVF0, kind = 'point')"
      ],
      "execution_count": 10,
      "outputs": [
        {
          "output_type": "execute_result",
          "data": {
            "text/plain": [
              "<seaborn.axisgrid.FacetGrid at 0x7f40efa49110>"
            ]
          },
          "metadata": {
            "tags": []
          },
          "execution_count": 10
        },
        {
          "output_type": "display_data",
          "data": {
            "image/png": "[encoded data removed]",
            "text/plain": [
              "<matplotlib.figure.Figure at 0x7f40efa49550>"
            ]
          },
          "metadata": {
            "tags": []
          }
        }
      ]
    },
    {
      "metadata": {
        "id": "3J_AY_FiOU5o",
        "colab_type": "text"
      },
      "cell_type": "markdown",
      "source": [
        "## Lift for each Measurable Frequency Bucket"
      ]
    },
    {
      "metadata": {
        "id": "wySDlHm4ozTx",
        "colab_type": "code",
        "outputId": "a5d1ae70-90d3-4a8b-8943-a38119d06456",
        "executionInfo": {
          "status": "ok",
          "timestamp": 1546024499506,
          "user_tz": 300,
          "elapsed": 1530,
          "user": {
            "displayName": "Tai Conley",
            "photoUrl": "",
            "userId": "06199340107397896396"
          }
        },
        "colab": {
          "height": 2111
        }
      },
      "cell_type": "code",
      "source": [
        "sns.factorplot(x='Viewable_Frequency', y='ConversionRate', data=Join1, kind = 'bar')\n",
        "sns.factorplot(x='Viewable_Frequency', y='ConversionRate', data=Join2, kind = 'bar')\n",
        "sns.factorplot(x='Viewable_Frequency', y='ConversionRate', data=Join3, kind = 'bar')\n",
        "sns.factorplot(x='Viewable_Frequency', y='ConversionRate', data=Join4, kind = 'bar')\n",
        "sns.factorplot(x='Viewable_Frequency', y='ConversionRate', data=Join5, kind = 'bar')\n",
        "sns.factorplot(x='Viewable_Frequency', y='ConversionRate', data=Join6, kind = 'bar')"
      ],
      "execution_count": 11,
      "outputs": [
        {
          "output_type": "execute_result",
          "data": {
            "text/plain": [
              "<seaborn.axisgrid.FacetGrid at 0x7f40ee656a90>"
            ]
          },
          "metadata": {
            "tags": []
          },
          "execution_count": 11
        },
        {
          "output_type": "display_data",
          "data": {
            "image/png": "[encoded data removed]",
            "text/plain": [
              "<matplotlib.figure.Figure at 0x7f40eea23850>"
            ]
          },
          "metadata": {
            "tags": []
          }
        },
        {
          "output_type": "display_data",
          "data": {
            "image/png": "[encoded data removed]",
            "text/plain": [
              "<matplotlib.figure.Figure at 0x7f40f0769250>"
            ]
          },
          "metadata": {
            "tags": []
          }
        },
        {
          "output_type": "display_data",
          "data": {
            "image/png": "[encoded data removed]",
            "text/plain": [
              "<matplotlib.figure.Figure at 0x7f40eea3a610>"
            ]
          },
          "metadata": {
            "tags": []
          }
        },
        {
          "output_type": "display_data",
          "data": {
            "image/png": "[encoded data removed]",
            "text/plain": [
              "<matplotlib.figure.Figure at 0x7f40ee544d90>"
            ]
          },
          "metadata": {
            "tags": []
          }
        },
        {
          "output_type": "display_data",
          "data": {
            "image/png": "[encoded data removed]",
            "text/plain": [
              "<matplotlib.figure.Figure at 0x7f40ee339690>"
            ]
          },
          "metadata": {
            "tags": []
          }
        },
        {
          "output_type": "display_data",
          "data": {
            "image/png": "[encoded data removed]",
            "text/plain": [
              "<matplotlib.figure.Figure at 0x7f40ee656990>"
            ]
          },
          "metadata": {
            "tags": []
          }
        }
      ]
    },
    {
      "metadata": {
        "id": "FA8OerU_Oe3O",
        "colab_type": "text"
      },
      "cell_type": "markdown",
      "source": [
        "## Aggregated Lift Number (All Viewable paths compared to Non-Viewable paths)"
      ]
    },
    {
      "metadata": {
        "id": "8zG8zegwQ1XU",
        "colab_type": "code",
        "outputId": "14931186-bc0e-4786-8978-007a62153d52",
        "executionInfo": {
          "status": "ok",
          "timestamp": 1546024499899,
          "user_tz": 300,
          "elapsed": 324,
          "user": {
            "displayName": "Tai Conley",
            "photoUrl": "",
            "userId": "06199340107397896396"
          }
        },
        "colab": {
          "height": 35
        }
      },
      "cell_type": "code",
      "source": [
        "Non_Viewable_Converters = Converters.loc[Converters['Viewable_Frequency']==0,'Unique_Converters'].sum() #Total users that convert but see no viewable ads\n",
        "Viewable_Converters = Converters.loc[Converters['Viewable_Frequency']>0,'Unique_Converters'].sum() #Total users that convert and do see viewable ads\n",
        "Non_Viewable_Users = Frequency.loc[Frequency['Viewable_Frequency']==0,'Unique_Cookies'].sum() #Total users that see no viewable ads\n",
        "Viewable_Users = Frequency.loc[Frequency['Viewable_Frequency']>0,'Unique_Cookies'].sum() #Total users that see viewable ads\n",
        "Non_Viewable_CR = (Non_Viewable_Converters / float(Non_Viewable_Users))\n",
        "Viewable_CR = (Viewable_Converters / float(Viewable_Users))\n",
        "Incremental_Rate = (Viewable_CR - Non_Viewable_CR) / (Viewable_CR)\n",
        "Output = {\"Viewable CR\": round(Viewable_CR,4), \"Non_Viewable CR\": round(Non_Viewable_CR,4), \"Incremental\": round(Incremental_Rate,3)}\n",
        "Output"
      ],
      "execution_count": 12,
      "outputs": [
        {
          "output_type": "execute_result",
          "data": {
            "text/plain": [
              "{'Incremental': 0.38, 'Non_Viewable CR': 0.0004, 'Viewable CR': 0.0006}"
            ]
          },
          "metadata": {
            "tags": []
          },
          "execution_count": 12
        }
      ]
    },
    {
      "metadata": {
        "id": "eZ8HSZkFRaMr",
        "colab_type": "text"
      },
      "cell_type": "markdown",
      "source": [
        "# Use to get raw data in sheets"
      ]
    },
    {
      "metadata": {
        "id": "uzZx5dxpFnYp",
        "colab_type": "code",
        "outputId": "65538862-13a9-4854-8b5b-d12bf5cd0f78",
        "executionInfo": {
          "status": "ok",
          "timestamp": 1508790225921,
          "user_tz": 240,
          "elapsed": 17969,
          "user": {
            "displayName": "Tai Conley",
            "photoUrl": "https://lh3.googleusercontent.com/a/default-user=s128",
            "userId": "102302718295477425927"
          }
        },
        "colab": {
          "height": 138
        }
      },
      "cell_type": "code",
      "source": [
        "from colabtools import sheets\n",
        "sheet_id = sheets.create_spreadsheet('Incremental'+str({client_Name})) #build new workbook\n",
        "dataconverter = sheets.add_worksheet(sheet_id, 'Converters')\n",
        "dataall = sheets.add_worksheet(sheet_id, 'AllUsers')"
      ],
      "execution_count": 0,
      "outputs": [
        {
          "output_type": "stream",
          "text": [
            "Beginning OAuth2 authorization process ...\n",
            "Go to the following link in your browser:\n",
            "\n",
            "    https://accounts.google.com/o/oauth2/auth?redirect_uri=urn%3Aietf%3Awg%3Aoauth%3A2.0%3Aoob&scope=https%3A%2F%2Fwww.googleapis.com%2Fauth%2Fdrive+https%3A%2F%2Fwww.googleapis.com%2Fauth%2Fspreadsheets&client_id=26410270374-qledtqqegfh47hg82l580jjr5kv0r6rm.apps.googleusercontent.com&response_type=code&access_type=offline\n",
            "\n",
            "Authentication successful.\n"
          ],
          "name": "stdout"
        }
      ]
    },
    {
      "metadata": {
        "id": "fw76kaa8Fyqw",
        "colab_type": "code",
        "outputId": "a12e83fc-32eb-4dd9-a1c3-4449742bac56",
        "executionInfo": {
          "status": "ok",
          "timestamp": 1508790228227,
          "user_tz": 240,
          "elapsed": 150,
          "user": {
            "displayName": "Tai Conley",
            "photoUrl": "https://lh3.googleusercontent.com/a/default-user=s128",
            "userId": "102302718295477425927"
          }
        },
        "colab": {
          "height": 34
        }
      },
      "cell_type": "code",
      "source": [
        "%%substitute_globals\n",
        "%%html\n",
        "<a target=\"_blank\" href=\"https://docs.google.com/spreadsheets/d/{sheet_id}/edit\">\n",
        "Use this sheet!\n",
        "</a>"
      ],
      "execution_count": 0,
      "outputs": [
        {
          "output_type": "display_data",
          "data": {
            "text/html": [
              "<a target=\"_blank\" href=\"https://docs.google.com/spreadsheets/d/1rTl-Kirz1YsArrzBvGBxhFeyEN8Hfhk87hDDUnVk7dA/edit\">\n",
              "Use this sheet!\n",
              "</a>"
            ],
            "text/plain": [
              "<IPython.core.display.HTML at 0x55916d4a0b90>"
            ]
          },
          "metadata": {
            "tags": []
          }
        }
      ]
    },
    {
      "metadata": {
        "id": "a7n701W0GH-Y",
        "colab_type": "code",
        "outputId": "875a6672-7811-4d87-d075-77339ce639ff",
        "executionInfo": {
          "status": "ok",
          "timestamp": 1508794855184,
          "user_tz": 240,
          "elapsed": 7763,
          "user": {
            "displayName": "Tai Conley",
            "photoUrl": "https://lh3.googleusercontent.com/a/default-user=s128",
            "userId": "102302718295477425927"
          }
        },
        "colab": {
          "height": 51
        }
      },
      "cell_type": "code",
      "source": [
        "sheets.update_cells(sheet_id, dataconverter, Converters,1,1,True, True)\n",
        "sheets.update_cells(sheet_id, dataall, Frequency,1,1,True, True)"
      ],
      "execution_count": 0,
      "outputs": [
        {
          "output_type": "stream",
          "text": [
            "4199 cells updated.\n",
            "172839 cells updated.\n"
          ],
          "name": "stdout"
        }
      ]
    }
  ]
}